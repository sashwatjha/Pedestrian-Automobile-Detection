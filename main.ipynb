{
 "cells": [
  {
   "cell_type": "code",
   "execution_count": 3,
   "metadata": {},
   "outputs": [],
   "source": [
    "import cv2\n",
    "import time\n",
    "import numpy as np\n",
    "\n",
    "body_classifier = cv2.CascadeClassifier('pedestrian.xml')\n",
    "car_classifier = cv2.CascadeClassifier('automobile.xml')\n",
    "\n",
    "cap = cv2.VideoCapture('data/video.mp4')\n",
    "\n",
    "while cap.isOpened():\n",
    "    \n",
    "    ret, frame = cap.read()\n",
    "    try:\n",
    "        frame = cv2.resize(frame, None,fx=0.5, fy=0.5, interpolation = cv2.INTER_LINEAR)\n",
    "        \n",
    "    except cv2.error as e:\n",
    "        print('Program Ended!')\n",
    "        break\n",
    "        \n",
    "    gray = cv2.cvtColor(frame, cv2.COLOR_BGR2GRAY)\n",
    "    \n",
    "    bodies = body_classifier.detectMultiScale(gray, 1.2, 3)\n",
    "    \n",
    "    count = 0\n",
    "    for (x,y,w,h) in bodies:\n",
    "        count +=1\n",
    "        \n",
    "        frame1 = cv2.rectangle(frame, (x, y), (x+w, y+h), \n",
    "                               (0, 255, 255), 2)\n",
    "        \n",
    "        cv2.putText(frame1, 'Pedestrian '+str(count), \n",
    "                    (x, y-10), cv2.FONT_HERSHEY_SIMPLEX, \n",
    "                    0.4, (0, 255, 255), 1)        \n",
    "        \n",
    "        cars = car_classifier.detectMultiScale(gray, 1.4, 2)\n",
    "    \n",
    "        for (x,y,w,h) in cars:\n",
    "            \n",
    "            frame2 = cv2.rectangle(frame, (x, y), \n",
    "                                   (x+w, y+h), (0, 255, 0), 2)\n",
    "            \n",
    "            cv2.putText(frame1, 'Automobile ', \n",
    "                    (x, y-10), cv2.FONT_HERSHEY_SIMPLEX, \n",
    "                    0.4, (0, 255, 0), 1)\n",
    "            \n",
    "            cv2.putText(frame1, 'Press Enter to End', \n",
    "                (0, 20), cv2.FONT_HERSHEY_SIMPLEX, \n",
    "                0.5, (255, 255, 255), 1)\n",
    "            \n",
    "            cv2.imshow('Trying to Detect Pedestrian & Automobile', frame)\n",
    "\n",
    "\n",
    "    if cv2.waitKey(1) == 13:\n",
    "        \n",
    "        break\n",
    "\n",
    "cap.release()\n",
    "\n",
    "cv2.destroyAllWindows()"
   ]
  },
  {
   "cell_type": "code",
   "execution_count": null,
   "metadata": {},
   "outputs": [],
   "source": []
  }
 ],
 "metadata": {
  "kernelspec": {
   "display_name": "Python 3",
   "language": "python",
   "name": "python3"
  },
  "language_info": {
   "codemirror_mode": {
    "name": "ipython",
    "version": 3
   },
   "file_extension": ".py",
   "mimetype": "text/x-python",
   "name": "python",
   "nbconvert_exporter": "python",
   "pygments_lexer": "ipython3",
   "version": "3.8.5"
  }
 },
 "nbformat": 4,
 "nbformat_minor": 4
}
